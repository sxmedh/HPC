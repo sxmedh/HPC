{
  "nbformat": 4,
  "nbformat_minor": 0,
  "metadata": {
    "colab": {
      "provenance": [],
      "gpuType": "T4"
    },
    "kernelspec": {
      "name": "python3",
      "display_name": "Python 3"
    },
    "language_info": {
      "name": "python"
    },
    "accelerator": "GPU"
  },
  "cells": [
    {
      "cell_type": "code",
      "source": [
        "!nvcc --version"
      ],
      "metadata": {
        "colab": {
          "base_uri": "https://localhost:8080/"
        },
        "id": "SUqegLJD5VoF",
        "outputId": "3d5a13b7-5f36-47d8-fe93-51578321f914"
      },
      "execution_count": 16,
      "outputs": [
        {
          "output_type": "stream",
          "name": "stdout",
          "text": [
            "nvcc: NVIDIA (R) Cuda compiler driver\n",
            "Copyright (c) 2005-2023 NVIDIA Corporation\n",
            "Built on Tue_Aug_15_22:02:13_PDT_2023\n",
            "Cuda compilation tools, release 12.2, V12.2.140\n",
            "Build cuda_12.2.r12.2/compiler.33191640_0\n"
          ]
        }
      ]
    },
    {
      "cell_type": "code",
      "source": [
        "!pip install git+https://github.com/afnan47/cuda.git"
      ],
      "metadata": {
        "colab": {
          "base_uri": "https://localhost:8080/"
        },
        "id": "xvLbKC4i5VuW",
        "outputId": "574eb898-d572-44b0-f114-8d73a72dbb40"
      },
      "execution_count": 17,
      "outputs": [
        {
          "output_type": "stream",
          "name": "stdout",
          "text": [
            "Collecting git+https://github.com/afnan47/cuda.git\n",
            "  Cloning https://github.com/afnan47/cuda.git to /tmp/pip-req-build-x4d003i5\n",
            "  Running command git clone --filter=blob:none --quiet https://github.com/afnan47/cuda.git /tmp/pip-req-build-x4d003i5\n",
            "  Resolved https://github.com/afnan47/cuda.git to commit aac710a35f52bb78ab34d2e52517237941399eff\n",
            "  Preparing metadata (setup.py) ... \u001b[?25l\u001b[?25hdone\n"
          ]
        }
      ]
    },
    {
      "cell_type": "code",
      "source": [
        "%load_ext nvcc_plugin"
      ],
      "metadata": {
        "colab": {
          "base_uri": "https://localhost:8080/"
        },
        "id": "NOBCsz7Q6ROy",
        "outputId": "0b09001e-3327-4223-9b93-1bdc43e771b9"
      },
      "execution_count": 18,
      "outputs": [
        {
          "output_type": "stream",
          "name": "stdout",
          "text": [
            "The nvcc_plugin extension is already loaded. To reload it, use:\n",
            "  %reload_ext nvcc_plugin\n"
          ]
        }
      ]
    },
    {
      "cell_type": "code",
      "source": [
        "%%cu\n",
        "#include \"stdio.h\"\n",
        "#include <iostream>\n",
        "#include <cuda.h>\n",
        "#include <cuda_runtime.h>\n",
        "\n",
        "// Defining number of elements in Array\n",
        "#define N 5\n",
        "\n",
        "// Defining Kernel function for vector addition\n",
        "\n",
        "__global__ void gpuAdd(int *d_a, int *d_b, int *d_c)\n",
        "{\n",
        "    // Getting block index of current kernel\n",
        "    int tid = blockIdx.x; // handle the data at this index\n",
        "    if (tid < N)\n",
        "        d_c[tid] = d_a[tid] + d_b[tid];\n",
        "}\n",
        "\n",
        "// Main program\n",
        "int main(void)\n",
        "{\n",
        "    // Defining host arrays\n",
        "    int h_a[N], h_b[N], h_c[N];\n",
        "\n",
        "    // Defining device pointers\n",
        "    int *d_a, *d_b, *d_c;\n",
        "\n",
        "    // allocate the memory\n",
        "    cudaMalloc((void**)&d_a, N * sizeof(int));\n",
        "    cudaMalloc((void**)&d_b, N * sizeof(int));\n",
        "    cudaMalloc((void**)&d_c, N * sizeof(int));\n",
        "\n",
        "    // Initializing Arrays\n",
        "    for (int i = 0; i < N; i++) {\n",
        "        h_a[i] = 2*i*i;\n",
        "        h_b[i] = i ;\n",
        "    }\n",
        "\n",
        "    // Copy input arrays from host to device memory\n",
        "    cudaMemcpy(d_a, h_a, N * sizeof(int), cudaMemcpyHostToDevice);\n",
        "    cudaMemcpy(d_b, h_b, N * sizeof(int), cudaMemcpyHostToDevice);\n",
        "\n",
        "    // Calling kernels with N blocks and one thread per block, passing\n",
        "    // device pointers as parameters\n",
        "    gpuAdd <<<N, 1 >>>(d_a, d_b, d_c);\n",
        "\n",
        "    // Copy result back to host memory from device memory\n",
        "    cudaMemcpy(h_c, d_c, N * sizeof(int), cudaMemcpyDeviceToHost);\n",
        "\n",
        "    printf(\"Vector 1: \\n\");\n",
        "    // Printing result on console\n",
        "    for (int i = 0; i < N; i++) {\n",
        "        printf(\"%d \", h_a[i]);\n",
        "    }\n",
        "    printf(\"\\n\");\n",
        "\n",
        "    printf(\"Vector 2: \\n\");\n",
        "    // Printing result on console\n",
        "    for (int i = 0; i < N; i++) {\n",
        "        printf(\"%d \", h_b[i]);\n",
        "    }\n",
        "    printf(\"\\n\");\n",
        "\n",
        "    printf(\"Vector addition on GPU \\n\");\n",
        "    // Printing result on console\n",
        "    for (int i = 0; i < N; i++) {\n",
        "        printf(\"%d \", h_c[i]);\n",
        "    }\n",
        "    printf(\"\\n\");\n",
        "\n",
        "    // Free up memory\n",
        "    cudaFree(d_a);\n",
        "    cudaFree(d_b);\n",
        "    cudaFree(d_c);\n",
        "    return 0;\n",
        "}"
      ],
      "metadata": {
        "colab": {
          "base_uri": "https://localhost:8080/"
        },
        "id": "qJ2ust7K5V1a",
        "outputId": "2d2a1c43-dd64-4ab7-b1c1-48edeaf2c13c"
      },
      "execution_count": 19,
      "outputs": [
        {
          "output_type": "stream",
          "name": "stdout",
          "text": [
            "Vector 1: \n",
            "0 2 8 18 32 \n",
            "Vector 2: \n",
            "0 1 2 3 4 \n",
            "Vector addition on GPU \n",
            "0 3 10 21 36 \n",
            "\n"
          ]
        }
      ]
    },
    {
      "cell_type": "code",
      "source": [],
      "metadata": {
        "id": "EBwib3r76pSX"
      },
      "execution_count": 19,
      "outputs": []
    }
  ]
}