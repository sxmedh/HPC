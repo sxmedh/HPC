{
  "nbformat": 4,
  "nbformat_minor": 0,
  "metadata": {
    "colab": {
      "provenance": [],
      "gpuType": "T4"
    },
    "kernelspec": {
      "name": "python3",
      "display_name": "Python 3"
    },
    "language_info": {
      "name": "python"
    },
    "accelerator": "GPU"
  },
  "cells": [
    {
      "cell_type": "code",
      "execution_count": 18,
      "metadata": {
        "colab": {
          "base_uri": "https://localhost:8080/"
        },
        "id": "8dJuuG16urq8",
        "outputId": "d26cb310-3a04-4502-cf02-fb1f1a20ff02"
      },
      "outputs": [
        {
          "output_type": "stream",
          "name": "stdout",
          "text": [
            "nvcc: NVIDIA (R) Cuda compiler driver\n",
            "Copyright (c) 2005-2023 NVIDIA Corporation\n",
            "Built on Tue_Aug_15_22:02:13_PDT_2023\n",
            "Cuda compilation tools, release 12.2, V12.2.140\n",
            "Build cuda_12.2.r12.2/compiler.33191640_0\n"
          ]
        }
      ],
      "source": [
        "!nvcc --version"
      ]
    },
    {
      "cell_type": "code",
      "source": [
        "!pip install git+https://github.com/afnan47/cuda.git"
      ],
      "metadata": {
        "colab": {
          "base_uri": "https://localhost:8080/"
        },
        "id": "yyx6cLQyuzg0",
        "outputId": "5f2208f0-bdb6-4cdb-a092-900dd5ac1b84"
      },
      "execution_count": 19,
      "outputs": [
        {
          "output_type": "stream",
          "name": "stdout",
          "text": [
            "Collecting git+https://github.com/afnan47/cuda.git\n",
            "  Cloning https://github.com/afnan47/cuda.git to /tmp/pip-req-build-no7mq8rs\n",
            "  Running command git clone --filter=blob:none --quiet https://github.com/afnan47/cuda.git /tmp/pip-req-build-no7mq8rs\n",
            "  Resolved https://github.com/afnan47/cuda.git to commit aac710a35f52bb78ab34d2e52517237941399eff\n",
            "  Preparing metadata (setup.py) ... \u001b[?25l\u001b[?25hdone\n"
          ]
        }
      ]
    },
    {
      "cell_type": "code",
      "source": [
        "%load_ext nvcc_plugin"
      ],
      "metadata": {
        "colab": {
          "base_uri": "https://localhost:8080/"
        },
        "id": "beHqqp2GuzwN",
        "outputId": "5ef4c5b6-0469-4b0b-b102-7b4b74f3e4ed"
      },
      "execution_count": 20,
      "outputs": [
        {
          "output_type": "stream",
          "name": "stdout",
          "text": [
            "The nvcc_plugin extension is already loaded. To reload it, use:\n",
            "  %reload_ext nvcc_plugin\n"
          ]
        }
      ]
    },
    {
      "cell_type": "code",
      "source": [
        "%%cu\n",
        "\n",
        "#include <iostream>\n",
        "\n",
        "using namespace std;\n",
        "\n",
        "// CUDA code to multiply matrices\n",
        "\n",
        "__global__ void multiply(int* A, int* B, int* C, int size) {\n",
        "    // Uses thread indices and block indices to compute each element\n",
        "    int row = blockIdx.y * blockDim.y + threadIdx.y;\n",
        "    int col = blockIdx.x * blockDim.x + threadIdx.x;\n",
        "\n",
        "    if (row < size && col < size) {\n",
        "        int sum = 0;\n",
        "        for (int i = 0; i < size; i++) {\n",
        "            sum += A[row * size + i] * B[i * size + col];\n",
        "        }\n",
        "        C[row * size + col] = sum;\n",
        "    }\n",
        "}\n",
        "\n",
        "void initialize(int* matrix, int size) {\n",
        "    for (int i = 0; i < size * size; i++) {\n",
        "        matrix[i] = rand() % 10;\n",
        "    }\n",
        "}\n",
        "\n",
        "void print(int* matrix, int size) {\n",
        "    for (int row = 0; row < size; row++) {\n",
        "        for (int col = 0; col < size; col++) {\n",
        "            cout << matrix[row * size + col] << \" \";\n",
        "        }\n",
        "        cout << '\\n';\n",
        "    }\n",
        "    cout << '\\n';\n",
        "}\n",
        "\n",
        "int main() {\n",
        "\n",
        "    int* A, * B, * C;\n",
        "\n",
        "    int N = 2;\n",
        "    int blockSize =  16;\n",
        "\n",
        "    int matrixSize = N * N;\n",
        "    size_t matrixBytes = matrixSize * sizeof(int);\n",
        "\n",
        "    A = new int[matrixSize];\n",
        "    B = new int[matrixSize];\n",
        "    C = new int[matrixSize];\n",
        "\n",
        "    initialize(A, N);\n",
        "    initialize(B, N);\n",
        "\n",
        "    cout << \"Matrix A: \\n\";\n",
        "    print(A, N);\n",
        "\n",
        "    cout << \"Matrix B: \\n\";\n",
        "    print(B, N);\n",
        "\n",
        "    int* X, * Y, * Z;\n",
        "\n",
        "    // Allocate space\n",
        "    cudaMalloc(&X, matrixBytes);\n",
        "    cudaMalloc(&Y, matrixBytes);\n",
        "    cudaMalloc(&Z, matrixBytes);\n",
        "\n",
        "    // Copy values from A to X\n",
        "    cudaMemcpy(X, A, matrixBytes, cudaMemcpyHostToDevice);\n",
        "\n",
        "    // Copy values from B to Y\n",
        "    cudaMemcpy(Y, B, matrixBytes, cudaMemcpyHostToDevice);\n",
        "\n",
        "    dim3 grid(N,N);\n",
        "\n",
        "    // Launch kernel\n",
        "    multiply<<<grid, 2>>>(X, Y, Z, N);\n",
        "\n",
        "    cudaMemcpy(C, Z, matrixBytes, cudaMemcpyDeviceToHost);\n",
        "    cout << \"Multiplication of matrix A and B: \\n\";\n",
        "    print(C, N);\n",
        "\n",
        "    delete[] A;\n",
        "    delete[] B;\n",
        "    delete[] C;\n",
        "\n",
        "    cudaFree(X);\n",
        "    cudaFree(Y);\n",
        "    cudaFree(Z);\n",
        "\n",
        "    return 0;\n",
        "}"
      ],
      "metadata": {
        "colab": {
          "base_uri": "https://localhost:8080/"
        },
        "id": "R0_l-Dao-KhX",
        "outputId": "d5ad5c46-9d20-4e58-89dc-f4bd24ab06ee"
      },
      "execution_count": 21,
      "outputs": [
        {
          "output_type": "stream",
          "name": "stdout",
          "text": [
            "Matrix A: \n",
            "3 6 \n",
            "7 5 \n",
            "\n",
            "Matrix B: \n",
            "3 5 \n",
            "6 2 \n",
            "\n",
            "Multiplication of matrix A and B: \n",
            "45 27 \n",
            "51 45 \n",
            "\n",
            "\n"
          ]
        }
      ]
    }
  ]
}